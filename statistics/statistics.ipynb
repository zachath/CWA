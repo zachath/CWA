{
 "cells": [
  {
   "cell_type": "code",
   "execution_count": 1,
   "metadata": {},
   "outputs": [],
   "source": [
    "import pandas as pd\n",
    "import matplotlib.pyplot as plt\n",
    "import glob"
   ]
  },
  {
   "cell_type": "code",
   "execution_count": 2,
   "metadata": {},
   "outputs": [],
   "source": [
    "#Creates a graph from from the .csv files within the specified directory.\n",
    "def createGraph(dir):\n",
    "    dfs = []\n",
    "    for file in glob.glob(dir + '/*.csv'):\n",
    "        dfs.append(pd.read_csv(file))\n",
    "\n",
    "    aggregateDF = pd.DataFrame(columns=['Thread Count', 'Median Throughput'])\n",
    "    for i in range(len(dfs)):\n",
    "        aggregateDF.loc[i] = [dfs[i]['Thread Count'].mean(), dfs[i]['Throughput'].median()]\n",
    "\n",
    "    aggregateDF = aggregateDF.sort_values(by=['Thread Count'])\n",
    "\n",
    "    fig, ax = plt.subplots()\n",
    "\n",
    "    x = aggregateDF['Thread Count']\n",
    "    y = aggregateDF['Median Throughput']\n",
    "    ax.plot(x, y, marker='o')\n",
    "    ax.set_xticks(x)\n",
    "    plt.xlabel('Thread Count')\n",
    "    plt.ylabel('Median Throughput')\n",
    "    plt.show()\n"
   ]
  }
 ],
 "metadata": {
  "interpreter": {
   "hash": "897c4b69cab87948a1c92247149f6bf30e687cbf47b7899d2ec451123c00feeb"
  },
  "kernelspec": {
   "display_name": "Python 3.9.7 64-bit",
   "language": "python",
   "name": "python3"
  },
  "language_info": {
   "codemirror_mode": {
    "name": "ipython",
    "version": 3
   },
   "file_extension": ".py",
   "mimetype": "text/x-python",
   "name": "python",
   "nbconvert_exporter": "python",
   "pygments_lexer": "ipython3",
   "version": "3.9.7"
  },
  "orig_nbformat": 4
 },
 "nbformat": 4,
 "nbformat_minor": 2
}
